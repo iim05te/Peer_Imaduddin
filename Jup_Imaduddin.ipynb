{
 "cells": [
  {
   "cell_type": "markdown",
   "metadata": {
    "tags": []
   },
   "source": [
    "# My Jupiter Notebook on IBM Watson Studio"
   ]
  },
  {
   "cell_type": "markdown",
   "metadata": {},
   "source": [
    "**IMADUDDIN**\n",
    "\n",
    "Totally not a Robot"
   ]
  },
  {
   "cell_type": "markdown",
   "metadata": {},
   "source": [
    "*I am very much excited discussing data science, currently studying at Master Business Innovation, driven by curiosity*"
   ]
  },
  {
   "cell_type": "markdown",
   "metadata": {},
   "source": [
    "### The following code simply calculate the volume of rectangular pyramid"
   ]
  },
  {
   "cell_type": "code",
   "execution_count": 20,
   "metadata": {},
   "outputs": [
    {
     "data": {
      "text/plain": [
       "29040.0"
      ]
     },
     "execution_count": 20,
     "metadata": {},
     "output_type": "execute_result"
    }
   ],
   "source": [
    "def quad_pyramid_vol(j,k):\n",
    "    return (j**2*k/3)\n",
    "quad_pyramid_vol(44,45)"
   ]
  },
  {
   "cell_type": "markdown",
   "metadata": {},
   "source": [
    "Table of Cubic Calculations\n",
    "\n",
    "* j = quadrilateral length\n",
    "* k = pyramid height\n",
    "* A = base area\n",
    "* V = volume of rectangular pyramid\n",
    "\n",
    "A = $j^{2}$\n",
    "\n",
    "V = 1/3 x A x k\n",
    "\n",
    "*Table of Rectangular Pyramid Volume*\n",
    "\n",
    "| No | j(meter) | k(meter) | A(meter square) | V(meter cubic) |\n",
    "|-|-|-|-|-|\n",
    "|1|2|3|4|4|\n",
    "|2|2|6|4|8|\n",
    "|3|7|6|49|98|\n",
    "|4|78|21||85,176|"
   ]
  },
  {
   "cell_type": "code",
   "execution_count": null,
   "metadata": {},
   "outputs": [],
   "source": []
  }
 ],
 "metadata": {
  "kernelspec": {
   "display_name": "Python",
   "language": "python",
   "name": "conda-env-python-py"
  },
  "language_info": {
   "codemirror_mode": {
    "name": "ipython",
    "version": 3
   },
   "file_extension": ".py",
   "mimetype": "text/x-python",
   "name": "python",
   "nbconvert_exporter": "python",
   "pygments_lexer": "ipython3",
   "version": "3.7.12"
  }
 },
 "nbformat": 4,
 "nbformat_minor": 4
}
